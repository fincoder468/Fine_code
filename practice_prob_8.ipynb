{
  "nbformat": 4,
  "nbformat_minor": 0,
  "metadata": {
    "colab": {
      "provenance": [],
      "authorship_tag": "ABX9TyMBZhn7T2PDmxJ7pNYbfLlG",
      "include_colab_link": true
    },
    "kernelspec": {
      "name": "python3",
      "display_name": "Python 3"
    },
    "language_info": {
      "name": "python"
    }
  },
  "cells": [
    {
      "cell_type": "markdown",
      "metadata": {
        "id": "view-in-github",
        "colab_type": "text"
      },
      "source": [
        "<a href=\"https://colab.research.google.com/github/fincoder468/Fine_code/blob/main/practice_prob_8.ipynb\" target=\"_parent\"><img src=\"https://colab.research.google.com/assets/colab-badge.svg\" alt=\"Open In Colab\"/></a>"
      ]
    },
    {
      "cell_type": "code",
      "execution_count": null,
      "metadata": {
        "id": "bG1tgx3L-FIL"
      },
      "outputs": [],
      "source": [
        "# The task you have to perform is “Fake Multiplication Tables”. This task consists of a total of 15 points to evaluate your performance.\n",
        "#\n",
        "# Problem Statement:-\n",
        "#  Rohan das is a fraud by nature. Rohan Das wrote a python function to print a multiplication table of a given number and put one of the values (randomly generated) as wrong.\n",
        "#\n",
        "# Rohan Das did this to fool his classmates and make them commit a mistake in a test. You cannot tolerate this!\n",
        "#\n",
        "# So you decided to use your python skills to counter Rohan’s actions by writing a python program that validates Rohan’s multiplication table.\n",
        "#\n",
        "# Your function should be able to find out the wrong values in Rohan’s table and expose Rohan Das as a fraud.\n",
        "#\n",
        "# Note: Rohan’s function returns a list of numbers like this\n",
        "#\n",
        "# Rohan Das’s Function Input:\n",
        "# rohanMultiplication(6)\n",
        "#\n",
        "# Rohan’s function returns this output:\n",
        "# [6, 12, 18, 26, …., 60]\n",
        "#\n",
        "# You have to write a function isCorrect(table, number) and return the index where rohan’s function is wrong and print it to the screen! If the table is correct, your function returns None\n",
        "\n",
        "import random\n",
        "def rohanmultiplication(num):\n",
        "    wrong=random.randint(0,9)\n",
        "    table=[i*num for i in range(1,11)]\n",
        "    table[wrong]=table[wrong]+random.randint(0,9)\n",
        "    return table\n",
        "\n",
        "def iscorrect(num,table):\n",
        "    rtable=[i*num for i in range(1,11)]\n",
        "    for i in range(0,10):\n",
        "        if table[i]!=rtable[i]:\n",
        "            return i\n",
        "    return 0\n",
        "num=int(input(\"give a number\"))\n",
        "table=rohanmultiplication(num)\n",
        "print(table)\n",
        "print(iscorrect(num,table))"
      ]
    }
  ]
}