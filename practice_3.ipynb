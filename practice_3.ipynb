{
  "nbformat": 4,
  "nbformat_minor": 0,
  "metadata": {
    "colab": {
      "provenance": [],
      "authorship_tag": "ABX9TyMEJPGDfwNDGB+F+j7g4wq5",
      "include_colab_link": true
    },
    "kernelspec": {
      "name": "python3",
      "display_name": "Python 3"
    },
    "language_info": {
      "name": "python"
    }
  },
  "cells": [
    {
      "cell_type": "markdown",
      "metadata": {
        "id": "view-in-github",
        "colab_type": "text"
      },
      "source": [
        "<a href=\"https://colab.research.google.com/github/fincoder468/Fine_code/blob/main/practice_3.ipynb\" target=\"_parent\"><img src=\"https://colab.research.google.com/assets/colab-badge.svg\" alt=\"Open In Colab\"/></a>"
      ]
    },
    {
      "cell_type": "code",
      "execution_count": 30,
      "metadata": {
        "colab": {
          "base_uri": "https://localhost:8080/"
        },
        "id": "AaK8d3xY0PjR",
        "outputId": "79075f39-5b0b-4460-c0bf-60dd761d4fec"
      },
      "outputs": [
        {
          "output_type": "stream",
          "name": "stdout",
          "text": [
            "enter a list of calories\n",
            "2\n",
            "4\n",
            "5\n",
            "7\n",
            "\n",
            "[7, 5, 4, 2]\n",
            "[7, 5, 4, 2]\n",
            "[7, 5, 4, 2]\n"
          ]
        }
      ],
      "source": [
        "# The task you have to perform is “Foods and Calories.” This task consists of a total of 15 points to evaluate your performance.\n",
        "\n",
        "# Problem Statement:-\n",
        "# You visited a restaurant called CodeWithHarry, and the food items in that restaurant are sorted, based on their amount of calories. You have to reverse this list of food items containing calories.\n",
        "\n",
        "# You have to use the following three methods to reverse a list:\n",
        "\n",
        "# Inbuild method of python\n",
        "# List name [::-1] slicing trick\n",
        "# Swap the first element with the last one and second element with second last one and so on like,\n",
        "# [6 7 8 34 5] -> [5 34 8 7 6]\n",
        "\n",
        "# Input:\n",
        "# Take a list as an input from the user\n",
        "\n",
        "# [5, 4, 1]\n",
        "\n",
        "# Output:\n",
        "# [1, 4, 5]\n",
        "\n",
        "# [1, 4, 5]\n",
        "\n",
        "# [1, 4, 5]\n",
        "\n",
        "# All three methods give the same results!\n",
        "\n",
        "\n",
        "def func(ls,i):\n",
        "  ls[i],ls[-(i+1)]=ls[-(i+1)],ls[i]\n",
        "  return ls\n",
        "\n",
        " \n",
        "ls=[]\n",
        "print(\"enter a list of calories\")\n",
        "while True:\n",
        "  a=input()\n",
        "  if a=='':\n",
        "    break\n",
        "  ls.append(int(a))\n",
        "ls.reverse()\n",
        "print(ls)\n",
        "ls.reverse()\n",
        "print(ls[::-1])\n",
        "n=len(ls)\n",
        "for i in range(0,int(n/2)):\n",
        "  func(ls,i)\n",
        "  i+=1\n",
        "print(ls)\n"
      ]
    }
  ]
}