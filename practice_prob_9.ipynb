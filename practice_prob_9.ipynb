{
  "nbformat": 4,
  "nbformat_minor": 0,
  "metadata": {
    "colab": {
      "provenance": [],
      "authorship_tag": "ABX9TyMLnVRAElIW3DFETRV/Y1FD",
      "include_colab_link": true
    },
    "kernelspec": {
      "name": "python3",
      "display_name": "Python 3"
    },
    "language_info": {
      "name": "python"
    }
  },
  "cells": [
    {
      "cell_type": "markdown",
      "metadata": {
        "id": "view-in-github",
        "colab_type": "text"
      },
      "source": [
        "<a href=\"https://colab.research.google.com/github/fincoder468/Fine_code/blob/main/practice_prob_9.ipynb\" target=\"_parent\"><img src=\"https://colab.research.google.com/assets/colab-badge.svg\" alt=\"Open In Colab\"/></a>"
      ]
    },
    {
      "cell_type": "code",
      "execution_count": null,
      "metadata": {
        "id": "McyUsFgj-VcB"
      },
      "outputs": [],
      "source": [
        "# The task you have to perform is “Jumbled Funny Names”. This task consists of a total of 20 points to evaluate your performance.\n",
        "#\n",
        "# Problem Statement:-\n",
        "# It's result day at school and not everyone is happy. You decided to make your friends laugh by jumbling their names to come up with some funny names.\n",
        "#\n",
        "# Your program should take the number of names and the names separated by space as input. Output should be funny names in the same order.\n",
        "#\n",
        "# Input:\n",
        "# Enter number of friends:\n",
        "#\n",
        "# 3\n",
        "#\n",
        "# Enter the name of your 3 friends:\n",
        "#\n",
        "# Rohan Das\n",
        "#\n",
        "# Shubham Agarwal\n",
        "#\n",
        "# Ritesh Arora\n",
        "#\n",
        "# Output:\n",
        "# Ritesh Das\n",
        "#\n",
        "# Shubham Arora\n",
        "#\n",
        "# Rohan Agarwal\n",
        "\n",
        "import random\n",
        "n=int(input(\"enter number of friends\"))\n",
        "ls=[]\n",
        "for i in range(0,n):\n",
        "    ls.append(input(\"enter name\"))\n",
        "table_f=[]\n",
        "table_l=[]\n",
        "for i in range(0,n):\n",
        "    tt=ls[i].split(' ')\n",
        "    table_f.append(tt[0])\n",
        "    for j in range(1,len(tt)):\n",
        "        table_l.append(tt[j])\n",
        "print(table_f)\n",
        "print(table_l)\n",
        "for i in range(0,n):\n",
        "    print(table_f[i],sep=\" \",end=\"\")\n",
        "    for j in range(1,len(ls[i].split(' '))):\n",
        "        wr=random.randint(0,1)\n",
        "        # print(wr)\n",
        "        print(table_l[wr], end=\"\")\n",
        "        del table_l[wr]\n",
        "    print(\",\",end=\"\")\n"
      ]
    }
  ]
}