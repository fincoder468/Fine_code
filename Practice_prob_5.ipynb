{
  "nbformat": 4,
  "nbformat_minor": 0,
  "metadata": {
    "colab": {
      "provenance": [],
      "authorship_tag": "ABX9TyPP7a4hhe6/5p6o5NiG6G6A",
      "include_colab_link": true
    },
    "kernelspec": {
      "name": "python3",
      "display_name": "Python 3"
    },
    "language_info": {
      "name": "python"
    }
  },
  "cells": [
    {
      "cell_type": "markdown",
      "metadata": {
        "id": "view-in-github",
        "colab_type": "text"
      },
      "source": [
        "<a href=\"https://colab.research.google.com/github/fincoder468/Fine_code/blob/main/Practice_prob_5.ipynb\" target=\"_parent\"><img src=\"https://colab.research.google.com/assets/colab-badge.svg\" alt=\"Open In Colab\"/></a>"
      ]
    },
    {
      "cell_type": "code",
      "execution_count": 5,
      "metadata": {
        "colab": {
          "base_uri": "https://localhost:8080/"
        },
        "id": "JC5O1AZrIlvp",
        "outputId": "bf897d38-01b4-46d3-cc23-9477dbbfe34b"
      },
      "outputs": [
        {
          "output_type": "stream",
          "name": "stdout",
          "text": [
            "no. of elements\n",
            "4\n",
            "enter a list of numbers\n",
            "enter the element3\n",
            "enter the element5\n",
            "enter the element34\n",
            "enter the element87\n",
            "[3, 5, 44, 88]\n"
          ]
        }
      ],
      "source": [
        "# The task you have to perform is “Palindromify the List.” This task consists of a total of 10 points to evaluate your performance.\n",
        "\n",
        "# The task is very similar to the previous one, i.e., Tutorial #109 ( Pyhton Problem 4)\n",
        "\n",
        "# Problem Statement:-\n",
        "# You are given a list that contains some numbers. You have to print a list of the next palindromes only if the number is greater than 10; otherwise, you will print that number.\n",
        "\n",
        "# Input:\n",
        "# [1, 6, 87, 43]\n",
        "\n",
        "# Output:\n",
        "# [1, 6, 88, 44]\n",
        "\n",
        "def func(x):\n",
        "  if ispalindrome(x):\n",
        "    return x\n",
        "  else:\n",
        "    return func(x+1)\n",
        "\n",
        "def ispalindrome(x):\n",
        "  return str(x)==str(x)[::-1]\n",
        "ls=[]\n",
        "print(\"no. of elements\")\n",
        "n=int(input())\n",
        "print(\"enter a list of numbers\")\n",
        "while n>0:\n",
        "  n-=1\n",
        "  x=int(input(\"enter the element\"))\n",
        "  if x<=10:\n",
        "    ls.append(x)\n",
        "  else:\n",
        "    ls.append(func(x))\n",
        "print(ls)\n"
      ]
    }
  ]
}