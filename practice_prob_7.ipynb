{
  "nbformat": 4,
  "nbformat_minor": 0,
  "metadata": {
    "colab": {
      "provenance": [],
      "authorship_tag": "ABX9TyPJwzxiovuXXPSW/FSP2TTK",
      "include_colab_link": true
    },
    "kernelspec": {
      "name": "python3",
      "display_name": "Python 3"
    },
    "language_info": {
      "name": "python"
    }
  },
  "cells": [
    {
      "cell_type": "markdown",
      "metadata": {
        "id": "view-in-github",
        "colab_type": "text"
      },
      "source": [
        "<a href=\"https://colab.research.google.com/github/fincoder468/Fine_code/blob/main/practice_prob_7.ipynb\" target=\"_parent\"><img src=\"https://colab.research.google.com/assets/colab-badge.svg\" alt=\"Open In Colab\"/></a>"
      ]
    },
    {
      "cell_type": "code",
      "execution_count": null,
      "metadata": {
        "id": "eWPnVmUtGCi5"
      },
      "outputs": [],
      "source": [
        "# The task you have to perform is “Search Engine”. This task consists of a total of 20 points to evaluate your performance.\n",
        "#\n",
        "#  Problem Statement:-\n",
        "# You are given few sentences as a list (Python list of sentences). Take a query string as an input from the user. You have to pull out the sentences matching this query inputted by the user in decreasing order of relevance after converting every word in the query and the sentence to lowercase. The most relevant sentence is the one with the maximum number of matching words with the query.\n",
        "#\n",
        "# Sentences = [“Python is cool”, “python is good”, “python is not python snake”]\n",
        "#\n",
        "# Input:\n",
        "# Please input your query string\n",
        "#\n",
        "# “Python is”\n",
        "#\n",
        "# Output:\n",
        "# 3 results found:\n",
        "#\n",
        "# python is not python snake\n",
        "# python is good\n",
        "# Python is cool\n",
        "\n",
        "import re\n",
        "ls= ['Python is COOL', 'python is good','python is not python snake']\n",
        "st=input(\"please enter your query string\")\n",
        "st=st.lower()\n",
        "\n",
        "ls=list(map(lambda x:x.lower(),ls))\n",
        "dt={}\n",
        "for i in range(len(ls)):\n",
        "    dt[ls[i]]=len(re.findall(pattern=st,string=ls[i]))\n",
        "print(dt)\n",
        "bt=dict(sorted(dt.items(),key=lambda x:x[1],reverse=True))\n",
        "print(bt)"
      ]
    }
  ]
}