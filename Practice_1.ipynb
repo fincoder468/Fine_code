{
  "nbformat": 4,
  "nbformat_minor": 0,
  "metadata": {
    "colab": {
      "provenance": [],
      "authorship_tag": "ABX9TyOrw/tW7Np9OfS1pImJQhbV",
      "include_colab_link": true
    },
    "kernelspec": {
      "name": "python3",
      "display_name": "Python 3"
    },
    "language_info": {
      "name": "python"
    }
  },
  "cells": [
    {
      "cell_type": "markdown",
      "metadata": {
        "id": "view-in-github",
        "colab_type": "text"
      },
      "source": [
        "<a href=\"https://colab.research.google.com/github/fincoder468/Fine_code/blob/main/Practice_1.ipynb\" target=\"_parent\"><img src=\"https://colab.research.google.com/assets/colab-badge.svg\" alt=\"Open In Colab\"/></a>"
      ]
    },
    {
      "cell_type": "code",
      "execution_count": 8,
      "metadata": {
        "colab": {
          "base_uri": "https://localhost:8080/"
        },
        "id": "EvrUUNrEiJoQ",
        "outputId": "df6d218b-8959-4d2e-f6f9-69679b6f6e54"
      },
      "outputs": [
        {
          "output_type": "stream",
          "name": "stdout",
          "text": [
            "enter your age or year of birth2001\n",
            "you entered your year of birth and your current age is 22\n",
            "Do you want to know a your age in a particular year?\n",
            "yes or noyes\n",
            "enter Year2456\n",
            "your age in 2456 will be 455 if you could stay alive\n"
          ]
        }
      ],
      "source": [
        "# The task you have to perform is “Your Age In 2090”. This task consists of a total of 10 points to evaluate your performance.\n",
        "\n",
        "# Problem Statement:-\n",
        "# Take age or year of birth as an input from the user. Store the input in one variable. Your program should detect whether the entered input is age or year of birth and tell the user when they will turn 100 years old. (5 points).\n",
        "\n",
        "# Here are a few instructions that you must have to follow:\n",
        "\n",
        "# Do not use any type of module like DateTime or date utils. (-5 points)\n",
        "# Users can optionally provide a year, and your program must tell their age in that particular year. (3points)\n",
        "# Your code should handle all sorts of errors like :            (2 points)\n",
        "# You are not yet born\n",
        "# You seem to be the oldest person alive\n",
        "# You can also handle any other errors, if possible!\n",
        "\n",
        "# assumption:- max age of a human can be 120 in my program\n",
        "# if >2023 -You are not yet born\n",
        "# if <0 wrong input\n",
        "# if >120 and <1900 You seem to be the oldest person alive\n",
        "\n",
        "a=int(input(\"enter your age or year of birth\"))\n",
        "if a<0:\n",
        "  raise Exception(\"wrong age\")\n",
        "elif a>120 and a<1900:\n",
        "  raise Exception(\"You seem to be the oldest person alive\")\n",
        "elif a>2023:\n",
        "  raise Exception(\"You are not yet born\")\n",
        "else:\n",
        "  if a<=120:\n",
        "    age=a\n",
        "    print(f\"you entered your current age {a}\")\n",
        "  else:\n",
        "    age=2023-a\n",
        "    print(f\"you entered your year of birth and your current age is {age}\")\n",
        "  print(\"Do you want to know a your age in a particular year?\")\n",
        "  ans=input(\"yes or no\")\n",
        "  if ans==\"yes\":\n",
        "    b=int(input(\"enter Year\"))\n",
        "    if b>=2023:\n",
        "      age+=(b-2023)\n",
        "      if age>120:\n",
        "        print(f\"your age in {b} will be {age} if you could stay alive\")\n",
        "      else:\n",
        "        print(f\"your age in {b} will be {age}\")\n",
        "    else:\n",
        "      age-=(2023-b)\n",
        "      if age<=0:\n",
        "        print(f\"your age in {b} was {age} it means you were not even born\")\n",
        "      else:\n",
        "        print(f\"your age in {b} was {age}\")"
      ]
    }
  ]
}